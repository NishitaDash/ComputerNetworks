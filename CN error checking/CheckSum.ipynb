{
 "cells": [
  {
   "cell_type": "code",
   "execution_count": 1,
   "metadata": {},
   "outputs": [],
   "source": [
    "def binSum(chunk1,chunk2,div=8):\n",
    "    \n",
    "    st=bin(int(chunk1,2)+int(chunk2,2))\n",
    "    \n",
    "    if len(st)==div+3:   #for removing first 0b from binay code 0bxxxxxx\n",
    "        carry='1'\n",
    "        st1=st[3:]\n",
    "        st= binSum(st1,carry)\n",
    "        return st\n",
    "    else:\n",
    "        return st[2:]"
   ]
  },
  {
   "cell_type": "code",
   "execution_count": 2,
   "metadata": {},
   "outputs": [],
   "source": [
    "def findCheckSum(message,div=8):\n",
    "    mess_len=len(message)\n",
    "    \n",
    "    temp=message[:div]\n",
    "    message=message[div:]\n",
    "    for i in range((mess_len//div)-1):\n",
    "        temp=binSum(temp,message[:div])\n",
    "        message=message[div:]\n",
    "\n",
    "    checkSum=temp\n",
    "    #for taking compliment of check_sum\n",
    "    for i in range(len(checkSum)):\n",
    "        if checkSum[i]=='0':\n",
    "            checkSum=checkSum[:i]+'1'+checkSum[i+1:]\n",
    "        else:\n",
    "            checkSum=checkSum[:i]+'0'+checkSum[i+1:]\n",
    "    return checkSum"
   ]
  },
  {
   "cell_type": "code",
   "execution_count": 3,
   "metadata": {},
   "outputs": [],
   "source": [
    "def paddingZeros(message,div=8):\n",
    "    if (len(message)%div!=0):\n",
    "        for i in range(len(message)%div):\n",
    "            message+='0'\n",
    "    return message"
   ]
  },
  {
   "cell_type": "code",
   "execution_count": 4,
   "metadata": {},
   "outputs": [
    {
     "data": {
      "text/plain": [
       "10011001111000100010010010000100"
      ]
     },
     "execution_count": 4,
     "metadata": {},
     "output_type": "execute_result"
    }
   ],
   "source": [
    "10011001111000100010010010000100"
   ]
  },
  {
   "cell_type": "code",
   "execution_count": 6,
   "metadata": {},
   "outputs": [
    {
     "name": "stdout",
     "output_type": "stream",
     "text": [
      "enter sender message  10011001111000100010010010000100\n",
      "check sum of sender 011010\n",
      "enter recieved message 10011001111000100010010010000100\n",
      "\n",
      "No error\n"
     ]
    }
   ],
   "source": [
    "if __name__=='__main__':\n",
    "    \n",
    "    #sender side\n",
    "    send_message=input(\"enter sender message  \")\n",
    "    sender_check_sum=findCheckSum(paddingZeros(send_message))\n",
    "    \n",
    "    print(\"check sum of sender\",sender_check_sum)\n",
    "    \n",
    "    #reciever side checking\n",
    "    rec_message=input(\"enter recieved message \")\n",
    "    rec_check_sum=findCheckSum(paddingZeros(rec_message))\n",
    "    \n",
    "#     st=bin(int(sender_info,2)+int(reciever_info,2))\n",
    "    \n",
    "    if (sender_check_sum==rec_check_sum):\n",
    "        print(\"\\nNo error\")\n",
    "    else:\n",
    "        print(\"\\nerror is present\")"
   ]
  },
  {
   "cell_type": "code",
   "execution_count": null,
   "metadata": {},
   "outputs": [],
   "source": []
  },
  {
   "cell_type": "code",
   "execution_count": null,
   "metadata": {},
   "outputs": [],
   "source": []
  }
 ],
 "metadata": {
  "kernelspec": {
   "display_name": "Python 3",
   "language": "python",
   "name": "python3"
  },
  "language_info": {
   "codemirror_mode": {
    "name": "ipython",
    "version": 3
   },
   "file_extension": ".py",
   "mimetype": "text/x-python",
   "name": "python",
   "nbconvert_exporter": "python",
   "pygments_lexer": "ipython3",
   "version": "3.8.5"
  }
 },
 "nbformat": 4,
 "nbformat_minor": 4
}
