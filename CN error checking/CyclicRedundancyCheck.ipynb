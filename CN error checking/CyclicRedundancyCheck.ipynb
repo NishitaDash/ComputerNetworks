{
 "cells": [
  {
   "cell_type": "code",
   "execution_count": 19,
   "metadata": {},
   "outputs": [],
   "source": [
    "def divisionEx_OR(divisor,dividend):\n",
    "    divisor_len=len(divisor)\n",
    "    temp_remind=dividend[:divisor_len]\n",
    "    #print('temp_remind',temp_remind)\n",
    "    \n",
    "    while(True):#performing devision using Ex-OR operation.....\n",
    "        temp=''\n",
    "        for i in range(divisor_len):  #Ex-OR operation\n",
    "            if divisor[i]=='0' and temp_remind[i]=='0':\n",
    "                temp+='0'\n",
    "            elif divisor[i]=='1' and temp_remind[i]=='1':\n",
    "                temp+='0'\n",
    "            else:\n",
    "                temp+='1'\n",
    "        #print('temp',temp)\n",
    "         \n",
    "        while(temp):  #removing 0's from starting of the reminder\n",
    "            if temp[0]=='0':    \n",
    "                temp=temp[1:]\n",
    "            else:\n",
    "                break\n",
    "\n",
    "        if (len(dividend)+ len(temp) >=divisor_len):\n",
    "            while(len(temp)<divisor_len): #for adding 0/1's from dividend to temp_reminder\n",
    "                temp+=dividend[0]\n",
    "                dividend=dividend[1:]\n",
    "                #print('temp1',temp)\n",
    "                #print('dividend1',dividend)\n",
    "        else:\n",
    "            reminder=temp\n",
    "            break\n",
    "        temp_remind=temp\n",
    "    #print('reminder',reminder)\n",
    "    return reminder"
   ]
  },
  {
   "cell_type": "code",
   "execution_count": 20,
   "metadata": {},
   "outputs": [
    {
     "name": "stdout",
     "output_type": "stream",
     "text": [
      "Enter the parity generato binar code 10011\n",
      "Enter the message for sending to reciever 1101011111\n",
      "message after padding 0's before appliying CRC  11010111110000\n",
      "reminder 1111\n",
      "reminder after division (in the sender side) 1111\n"
     ]
    }
   ],
   "source": [
    "import numpy as np\n",
    "\n",
    "parity_gen=input(\"Enter the parity generato binar code \")\n",
    "mess=input(\"Enter the message for sending to reciever \")\n",
    "\n",
    "for i in range(len(parity_gen)-1):\n",
    "    mess+='0'\n",
    "print(\"message after padding 0's before appliying CRC \",mess)\n",
    "\n",
    "#changing var_names......\n",
    "divisor=parity_gen;  dividend=mess;\n",
    "\n",
    "reminder=divisionEx_OR(divisor,dividend)\n",
    "print(\"reminder after division (in the sender side)\",reminder)"
   ]
  },
  {
   "cell_type": "code",
   "execution_count": 21,
   "metadata": {},
   "outputs": [
    {
     "name": "stdout",
     "output_type": "stream",
     "text": [
      "message, after replacing 0's by reminder that are added before applying CRC, is 11010111111111\n"
     ]
    }
   ],
   "source": [
    "#for replacing 0's by reminder that are added before applying CRC\n",
    "mess=mess[:len(mess)-len(reminder)]+reminder\n",
    "print(\"message, after replacing 0's by reminder that are added before applying CRC, is\",mess)"
   ]
  },
  {
   "cell_type": "code",
   "execution_count": 22,
   "metadata": {},
   "outputs": [
    {
     "name": "stdout",
     "output_type": "stream",
     "text": [
      "reminder \n",
      "reminder after division (in reciever side) \n",
      "There is no any error.\n"
     ]
    }
   ],
   "source": [
    "#reciever side CRC\n",
    "reminder_new=divisionEx_OR(divisor,mess)\n",
    "print(\"reminder after division (in reciever side)\",reminder_new)\n",
    "if sum(int(x) for x in reminder_new)==0:\n",
    "    print(\"There is no any error.\")\n",
    "else:\n",
    "    print(\"There is some error.\")"
   ]
  },
  {
   "cell_type": "code",
   "execution_count": 23,
   "metadata": {},
   "outputs": [
    {
     "data": {
      "text/plain": [
       "1101011111"
      ]
     },
     "execution_count": 23,
     "metadata": {},
     "output_type": "execute_result"
    }
   ],
   "source": [
    "#error\n",
    "11001\n",
    "1010101010\n",
    "\n",
    "#no any error\n",
    "10011\n",
    "1101011111"
   ]
  },
  {
   "cell_type": "code",
   "execution_count": null,
   "metadata": {},
   "outputs": [],
   "source": []
  }
 ],
 "metadata": {
  "kernelspec": {
   "display_name": "Python 3",
   "language": "python",
   "name": "python3"
  },
  "language_info": {
   "codemirror_mode": {
    "name": "ipython",
    "version": 3
   },
   "file_extension": ".py",
   "mimetype": "text/x-python",
   "name": "python",
   "nbconvert_exporter": "python",
   "pygments_lexer": "ipython3",
   "version": "3.8.5"
  }
 },
 "nbformat": 4,
 "nbformat_minor": 4
}
