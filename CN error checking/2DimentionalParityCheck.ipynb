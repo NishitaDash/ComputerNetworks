{
 "cells": [
  {
   "cell_type": "code",
   "execution_count": 1,
   "metadata": {},
   "outputs": [],
   "source": [
    "def testing(reciever,div=8):\n",
    "    \n",
    "    message=str()\n",
    "    length=len(reciever)\n",
    "    #removing last column parity\n",
    "    col = reciever[length-div:]\n",
    "    reciever = reciever[:length-div]\n",
    "    \n",
    "    #checking error at parity in rows(added in middle by sender) and then removing\n",
    "    row=[]\n",
    "    row_count=0\n",
    "    while(reciever):\n",
    "        chunk = reciever[:div]\n",
    "        old_parity=int(reciever[div])\n",
    "        reciever = reciever[div+1:]\n",
    "        message+=chunk\n",
    "        \n",
    "        sum_chunk=0\n",
    "        for i in range(div):\n",
    "            sum_chunk += int(chunk[i])\n",
    "        if old_parity != (sum_chunk%2):\n",
    "            row.append(row_count)\n",
    "        row_count+=1\n",
    "        \n",
    "    print(\"Error in row_parity at\",row)      \n",
    "    \n",
    "    #checking parity in columns\n",
    "    col_len=len(message)//div\n",
    "    col_parity=[]\n",
    "    for j in range(div):\n",
    "        sum_chunk=0\n",
    "        for i in range(col_len):\n",
    "            sum_chunk += int(message[i*div+j])\n",
    "        if int(col[j]) != (sum_chunk%2):\n",
    "            col_parity.append(j)\n",
    "            \n",
    "    print(\"Error in col_parity at\",col_parity)        \n",
    "    print(\"message received\",message)\n",
    "    \n",
    "    if len(row)==0 and len(col_parity)==0:\n",
    "        print(\"\\nThere is no error.\")\n",
    "    else:\n",
    "        print('hello',len(row))\n",
    "        for i in range(len(row)):\n",
    "            \n",
    "            idx=row[i]*div+col_parity[-(i+1)]\n",
    "            print(\"error found in the message at index\",idx)\n",
    "         \n",
    "            if message[idx]==0:\n",
    "                message=message[:idx]+'1'+message[idx+1:]\n",
    "            else:\n",
    "                message=message[:idx]+'0'+message[idx+1:]\n",
    "            print(\"\\nMessage after correcting at index\",idx,\"is\",message)       \n",
    "    print(\"\\nFinal message is\",message)"
   ]
  },
  {
   "cell_type": "code",
   "execution_count": 2,
   "metadata": {},
   "outputs": [],
   "source": [
    "def addingParity(string,div=8):\n",
    "    message=str()\n",
    "    #adding parity in rows format\n",
    "    while(string):\n",
    "        chunk = string[:div]\n",
    "        string = string[div:]\n",
    "        message+=chunk\n",
    "        \n",
    "        sum_chunk=0\n",
    "        if len(chunk)==div:\n",
    "            for i in range(div):\n",
    "                sum_chunk += int(chunk[i])\n",
    "            #parity adding\n",
    "            message+=str(sum_chunk%2) \n",
    "        else:\n",
    "            for i in range(div-len(chunk)): #padding zeros\n",
    "                message+='0'\n",
    "            for i in range(len(chunk)):\n",
    "                sum_chunk += int(chunk[i])\n",
    "            #parity adding  \n",
    "            message +=str(sum_chunk%2)\n",
    "            \n",
    "    #adding parity in columns format\n",
    "    column_len=len(message)//(div+1)\n",
    "    for i in range(div):\n",
    "        sum_column=0\n",
    "        for j in range(column_len):\n",
    "            sum_column += int(message[i+(div+1)*j])\n",
    "        message += str(sum_column%2)\n",
    "    return message"
   ]
  },
  {
   "cell_type": "code",
   "execution_count": null,
   "metadata": {},
   "outputs": [],
   "source": []
  },
  {
   "cell_type": "code",
   "execution_count": 3,
   "metadata": {
    "scrolled": true
   },
   "outputs": [
    {
     "name": "stdout",
     "output_type": "stream",
     "text": [
      "\n",
      "Enter binary code for sending a message 10011001111000100010010010000100\n",
      "sender message  10011001011100010000100100010000100011011011\n",
      "\n",
      "Enter binary code for testing of message 10011001011100010000100100010000100011011011\n",
      "\n",
      "Testing result is here.......\n",
      "Error in row_parity at []\n",
      "Error in col_parity at []\n",
      "message received 10011001111000100010010010000100\n",
      "\n",
      "There is no error.\n",
      "\n",
      "Final message is 10011001111000100010010010000100\n"
     ]
    }
   ],
   "source": [
    "if __name__=='__main__':\n",
    "\n",
    "    input_message=input(\"\\nEnter binary code for sending a message \")\n",
    "\n",
    "    sender_message=addingParity(input_message)\n",
    "    print(\"sender message \",sender_message)\n",
    "    input_test=input(\"\\nEnter binary code for testing of message \")\n",
    "\n",
    "    #reciever_message=addingParity(input_test)\n",
    "    #print(\"reciever message \",reciever_message)  \n",
    "    print(\"\\nTesting result is here.......\")\n",
    "#     test(sender_message,reciever_message)\n",
    "    testing(input_test)"
   ]
  },
  {
   "cell_type": "code",
   "execution_count": null,
   "metadata": {},
   "outputs": [],
   "source": [
    "#10011001111000100010010010000100\n",
    "#10011001011100010000100100010000100011011011"
   ]
  }
 ],
 "metadata": {
  "kernelspec": {
   "display_name": "Python 3",
   "language": "python",
   "name": "python3"
  },
  "language_info": {
   "codemirror_mode": {
    "name": "ipython",
    "version": 3
   },
   "file_extension": ".py",
   "mimetype": "text/x-python",
   "name": "python",
   "nbconvert_exporter": "python",
   "pygments_lexer": "ipython3",
   "version": "3.8.5"
  }
 },
 "nbformat": 4,
 "nbformat_minor": 4
}
